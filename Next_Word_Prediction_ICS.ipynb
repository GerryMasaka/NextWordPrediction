{
  "cells": [
    {
      "cell_type": "markdown",
      "metadata": {
        "id": "view-in-github",
        "colab_type": "text"
      },
      "source": [
        "<a href=\"https://colab.research.google.com/github/GerryMasaka/NextWordPrediction/blob/main/Next_Word_Prediction_ICS.ipynb\" target=\"_parent\"><img src=\"https://colab.research.google.com/assets/colab-badge.svg\" alt=\"Open In Colab\"/></a>"
      ]
    },
    {
      "cell_type": "code",
      "execution_count": null,
      "metadata": {
        "colab": {
          "background_save": true
        },
        "id": "HTJE-2N3eiNa"
      },
      "outputs": [],
      "source": [
        "#!python -m spacy download en_core_web_md"
      ]
    },
    {
      "cell_type": "code",
      "execution_count": null,
      "metadata": {
        "colab": {
          "background_save": true
        },
        "id": "jLbzhwDjeyMl"
      },
      "outputs": [],
      "source": [
        "#import spacy"
      ]
    },
    {
      "cell_type": "code",
      "execution_count": null,
      "metadata": {
        "colab": {
          "background_save": true
        },
        "id": "YN02YGa2ep96"
      },
      "outputs": [],
      "source": [
        "#embedding_file=spacy.load('en_core_web_md')"
      ]
    },
    {
      "cell_type": "code",
      "execution_count": null,
      "metadata": {
        "colab": {
          "background_save": true
        },
        "id": "P27Q6hWqe6Pg"
      },
      "outputs": [],
      "source": [
        "#embedding_file('want').vector.shape"
      ]
    },
    {
      "cell_type": "code",
      "execution_count": null,
      "metadata": {
        "colab": {
          "background_save": true
        },
        "id": "zCEN0H6dy9eJ"
      },
      "outputs": [],
      "source": [
        "from sklearn.feature_extraction.text import TfidfVectorizer\n",
        "from nltk.tokenize import word_tokenize,sent_tokenize\n",
        "from sklearn.decomposition import PCA\n",
        "from sklearn.metrics import accuracy_score\n",
        "from sklearn.model_selection import train_test_split"
      ]
    },
    {
      "cell_type": "code",
      "execution_count": null,
      "metadata": {
        "colab": {
          "background_save": true
        },
        "id": "aJJgTFu1JwuS"
      },
      "outputs": [],
      "source": [
        "#!pip install nlp"
      ]
    },
    {
      "cell_type": "code",
      "execution_count": null,
      "metadata": {
        "colab": {
          "background_save": true
        },
        "id": "YTSh_eoizBWc"
      },
      "outputs": [],
      "source": [
        "#from nlp import load_dataset\n",
        "from nltk.tokenize import word_tokenize,sent_tokenize"
      ]
    },
    {
      "cell_type": "code",
      "execution_count": null,
      "metadata": {
        "colab": {
          "background_save": true
        },
        "id": "of3vD6f2jDP6"
      },
      "outputs": [],
      "source": [
        "import numpy as np\n",
        "import tensorflow as tf"
      ]
    },
    {
      "cell_type": "code",
      "execution_count": null,
      "metadata": {
        "id": "hTZVjvO12J0v"
      },
      "outputs": [],
      "source": [
        "import nltk\n",
        "import math\n",
        "import json\n",
        "import tensorflow_hub as hub\n",
        "import spacy"
      ]
    },
    {
      "cell_type": "code",
      "execution_count": null,
      "metadata": {
        "colab": {
          "base_uri": "https://localhost:8080/"
        },
        "id": "nv3_5zVS14KO",
        "outputId": "aeb7a7fe-d428-4b4d-e89d-8bbc2dbd16c9"
      },
      "outputs": [
        {
          "name": "stdout",
          "output_type": "stream",
          "text": [
            "[nltk_data] Downloading package punkt to /root/nltk_data...\n",
            "[nltk_data]   Package punkt is already up-to-date!\n",
            "[nltk_data] Downloading package gutenberg to /root/nltk_data...\n",
            "[nltk_data]   Package gutenberg is already up-to-date!\n"
          ]
        },
        {
          "data": {
            "text/plain": [
              "True"
            ]
          },
          "execution_count": 26,
          "metadata": {},
          "output_type": "execute_result"
        }
      ],
      "source": [
        "nltk.download('punkt')\n",
        "nltk.download('gutenberg')"
      ]
    },
    {
      "cell_type": "code",
      "execution_count": null,
      "metadata": {
        "id": "DOB779cVjGy2"
      },
      "outputs": [],
      "source": [
        "from tensorflow.keras.layers import SimpleRNN,GRU,LSTM,Dense,Embedding,InputLayer,Input\n",
        "from tensorflow.keras.optimizers import Adam\n",
        "from tensorflow.keras.metrics import CategoricalCrossentropy\n",
        "from tensorflow.keras.losses import CategoricalCrossentropy,categorical_crossentropy\n",
        "from tensorflow.keras import Model\n",
        "from tensorflow.keras.preprocessing.text import Tokenizer\n",
        "from tensorflow.keras.preprocessing.sequence import pad_sequences\n",
        "#from nltk.corpus import gutenberg"
      ]
    },
    {
      "cell_type": "code",
      "execution_count": null,
      "metadata": {
        "id": "QXGyhX9fqQGV"
      },
      "outputs": [],
      "source": [
        "DIM=10"
      ]
    },
    {
      "cell_type": "code",
      "execution_count": null,
      "metadata": {
        "colab": {
          "base_uri": "https://localhost:8080/",
          "height": 183
        },
        "id": "jIDTApe80952",
        "outputId": "022ecc22-77fd-49eb-b7dc-fceb399485d1"
      },
      "outputs": [
        {
          "ename": "FileNotFoundError",
          "evalue": "ignored",
          "output_type": "error",
          "traceback": [
            "\u001b[0;31m---------------------------------------------------------------------------\u001b[0m",
            "\u001b[0;31mFileNotFoundError\u001b[0m                         Traceback (most recent call last)",
            "\u001b[0;32m<ipython-input-29-03ef7793c08c>\u001b[0m in \u001b[0;36m<module>\u001b[0;34m()\u001b[0m\n\u001b[0;32m----> 1\u001b[0;31m \u001b[0mdata\u001b[0m\u001b[0;34m=\u001b[0m\u001b[0mopen\u001b[0m\u001b[0;34m(\u001b[0m\u001b[0;34m\"0001a.txt\"\u001b[0m\u001b[0;34m)\u001b[0m\u001b[0;34m\u001b[0m\u001b[0;34m\u001b[0m\u001b[0m\n\u001b[0m\u001b[1;32m      2\u001b[0m \u001b[0mdata\u001b[0m\u001b[0;34m=\u001b[0m\u001b[0mdata\u001b[0m\u001b[0;34m.\u001b[0m\u001b[0mread\u001b[0m\u001b[0;34m(\u001b[0m\u001b[0;34m)\u001b[0m\u001b[0;34m\u001b[0m\u001b[0;34m\u001b[0m\u001b[0m\n",
            "\u001b[0;31mFileNotFoundError\u001b[0m: [Errno 2] No such file or directory: '0001a.txt'"
          ]
        }
      ],
      "source": [
        "data=open(\"0001a.txt\")\n",
        "data=data.read()"
      ]
    },
    {
      "cell_type": "code",
      "execution_count": null,
      "metadata": {
        "id": "JxzWLbrNT-bk"
      },
      "outputs": [],
      "source": [
        "data"
      ]
    },
    {
      "cell_type": "code",
      "execution_count": null,
      "metadata": {
        "id": "L4R4V4h1-Vyo"
      },
      "outputs": [],
      "source": [
        "corpus_list=[]\n",
        "corpus=sent_tokenize(data)\n",
        "for sent in corpus:\n",
        "  corpus_list.append([sent])"
      ]
    },
    {
      "cell_type": "code",
      "execution_count": null,
      "metadata": {
        "id": "pv-sWlN5rlq8"
      },
      "outputs": [],
      "source": [
        "corpus_list"
      ]
    },
    {
      "cell_type": "code",
      "execution_count": null,
      "metadata": {
        "id": "bQv2dcaoC8N4"
      },
      "outputs": [],
      "source": [
        "len(corpus_list)"
      ]
    },
    {
      "cell_type": "code",
      "execution_count": null,
      "metadata": {
        "id": "YXVsaG1mCPpA"
      },
      "outputs": [],
      "source": [
        "vectorizer = TfidfVectorizer()"
      ]
    },
    {
      "cell_type": "code",
      "execution_count": null,
      "metadata": {
        "id": "TUvcHY0tCQhE"
      },
      "outputs": [],
      "source": [
        "X = vectorizer.fit_transform(corpus)"
      ]
    },
    {
      "cell_type": "code",
      "execution_count": null,
      "metadata": {
        "id": "Zi4D2F_y284Y"
      },
      "outputs": [],
      "source": [
        "X.shape"
      ]
    },
    {
      "cell_type": "code",
      "execution_count": null,
      "metadata": {
        "id": "7xJDOiXFCShU"
      },
      "outputs": [],
      "source": [
        "vocab=vectorizer.get_feature_names_out()"
      ]
    },
    {
      "cell_type": "code",
      "execution_count": null,
      "metadata": {
        "id": "Of0X-I7j3Rp8"
      },
      "outputs": [],
      "source": [
        "#vocab"
      ]
    },
    {
      "cell_type": "code",
      "execution_count": null,
      "metadata": {
        "id": "3UGNKKvTDr0b"
      },
      "outputs": [],
      "source": [
        "len(vocab)"
      ]
    },
    {
      "cell_type": "code",
      "execution_count": null,
      "metadata": {
        "id": "XagMp3SjCh89"
      },
      "outputs": [],
      "source": [
        "embeddings_array=X.toarray().T"
      ]
    },
    {
      "cell_type": "code",
      "execution_count": null,
      "metadata": {
        "id": "GOPpR2Sn4CTU"
      },
      "outputs": [],
      "source": [
        "vocab[458]"
      ]
    },
    {
      "cell_type": "code",
      "execution_count": null,
      "metadata": {
        "id": "TOVr7oK836gw"
      },
      "outputs": [],
      "source": [
        "embeddings_array[458]"
      ]
    },
    {
      "cell_type": "code",
      "execution_count": null,
      "metadata": {
        "id": "DT8c7w-7CjdO"
      },
      "outputs": [],
      "source": [
        "pca=PCA(n_components=DIM)"
      ]
    },
    {
      "cell_type": "code",
      "execution_count": null,
      "metadata": {
        "id": "xiMVVGCJCmet"
      },
      "outputs": [],
      "source": [
        "dense_embeddings=pca.fit_transform(embeddings_array)"
      ]
    },
    {
      "cell_type": "code",
      "execution_count": null,
      "metadata": {
        "id": "6TlGSBWS5n0u"
      },
      "outputs": [],
      "source": [
        "dense_embeddings[458]"
      ]
    },
    {
      "cell_type": "code",
      "execution_count": null,
      "metadata": {
        "id": "tu2Dq94rCuF-"
      },
      "outputs": [],
      "source": [
        "embeddings_dict={}"
      ]
    },
    {
      "cell_type": "code",
      "execution_count": null,
      "metadata": {
        "id": "8Q64WXqFCzlV"
      },
      "outputs": [],
      "source": [
        "for i in range(len(vocab)):\n",
        "  embeddings_dict[vocab[i]]=dense_embeddings[i].tolist()"
      ]
    },
    {
      "cell_type": "code",
      "execution_count": null,
      "metadata": {
        "id": "wodOkrDl7Ilf"
      },
      "outputs": [],
      "source": [
        "#embeddings_dict"
      ]
    },
    {
      "cell_type": "code",
      "execution_count": null,
      "metadata": {
        "id": "qqRXRezK2WAu"
      },
      "outputs": [],
      "source": [
        "seq_len=10\n",
        "tokenizer=Tokenizer()\n",
        "tokenizer.fit_on_texts([data])\n",
        "x=tokenizer.texts_to_sequences([data])\n",
        "#x"
      ]
    },
    {
      "cell_type": "code",
      "execution_count": null,
      "metadata": {
        "id": "2PFl9iQ8qgZ3"
      },
      "outputs": [],
      "source": [
        "#x[0]"
      ]
    },
    {
      "cell_type": "code",
      "execution_count": null,
      "metadata": {
        "id": "we_hprIlUtg4"
      },
      "outputs": [],
      "source": [
        "len(x[0])"
      ]
    },
    {
      "cell_type": "code",
      "execution_count": null,
      "metadata": {
        "id": "PvnR-g1E1iEu"
      },
      "outputs": [],
      "source": [
        "#tokenizer.get_config()"
      ]
    },
    {
      "cell_type": "code",
      "execution_count": null,
      "metadata": {
        "id": "RcikPqp7r667"
      },
      "outputs": [],
      "source": [
        "vocab_dict=json.loads(tokenizer.get_config().get('word_index'))"
      ]
    },
    {
      "cell_type": "code",
      "execution_count": null,
      "metadata": {
        "id": "8z9TJ69hq1zM"
      },
      "outputs": [],
      "source": [
        "vocab_dict"
      ]
    },
    {
      "cell_type": "code",
      "execution_count": null,
      "metadata": {
        "id": "y6rvcZQ3uU3Y"
      },
      "outputs": [],
      "source": [
        "vals=list(vocab_dict.values())\n",
        "keys=list(vocab_dict.keys())\n",
        "#keys[vals.index(1)]"
      ]
    },
    {
      "cell_type": "code",
      "execution_count": null,
      "metadata": {
        "id": "rDNcHMcfNzQ4"
      },
      "outputs": [],
      "source": [
        "vocab_size=len(keys)"
      ]
    },
    {
      "cell_type": "code",
      "execution_count": null,
      "metadata": {
        "id": "8IQlLxHeRgBz"
      },
      "outputs": [],
      "source": [
        "vocab_size"
      ]
    },
    {
      "cell_type": "code",
      "execution_count": null,
      "metadata": {
        "id": "vif75frJaldU"
      },
      "outputs": [],
      "source": [
        "embedding_array=np.zeros((vocab_size+1,DIM))\n",
        "embedding_array.shape"
      ]
    },
    {
      "cell_type": "code",
      "execution_count": null,
      "metadata": {
        "id": "BeSS4bYAZQW8"
      },
      "outputs": [],
      "source": [
        "for word,i in tokenizer.word_index.items():\n",
        "  if word in embeddings_dict:\n",
        "    embedding_vector=embeddings_dict[word]\n",
        "  if embedding_vector is not None:\n",
        "    embedding_array[i]=embedding_vector"
      ]
    },
    {
      "cell_type": "code",
      "execution_count": null,
      "metadata": {
        "id": "I8xo3tjZfCUT"
      },
      "outputs": [],
      "source": [
        "\"\"\"for word,i in tokenizer.word_index.items():\n",
        "  embedding_vector=embedding_file(word).vector\n",
        "  if embedding_vector is not None:\n",
        "    embedding_array[i]=embedding_vector\"\"\""
      ]
    },
    {
      "cell_type": "code",
      "execution_count": null,
      "metadata": {
        "id": "bIj5PtCIZyt2"
      },
      "outputs": [],
      "source": [
        "#embedding_array[7306]"
      ]
    },
    {
      "cell_type": "code",
      "execution_count": null,
      "metadata": {
        "id": "i6-XEAC_Vu_Y"
      },
      "outputs": [],
      "source": [
        "len(x[0])"
      ]
    },
    {
      "cell_type": "code",
      "execution_count": null,
      "metadata": {
        "id": "1tVjyvXhTNJR"
      },
      "outputs": [],
      "source": [
        "x[0][0:15]"
      ]
    },
    {
      "cell_type": "code",
      "execution_count": null,
      "metadata": {
        "id": "rzuDqCqaSTE0"
      },
      "outputs": [],
      "source": [
        "inner_list=[]\n",
        "X={}\n",
        "corpus_length=len(x[0])-seq_len\n",
        "k=0\n",
        "\n",
        "for i in range(0,corpus_length,seq_len):\n",
        "  inner_list.clear()\n",
        "  for j in range(i,i+seq_len):\n",
        "    inner_list.append(x[0][j])\n",
        "  X[k]=inner_list[:]\n",
        "  k=k+1"
      ]
    },
    {
      "cell_type": "code",
      "execution_count": null,
      "metadata": {
        "id": "V2gTJPZikPnq"
      },
      "outputs": [],
      "source": [
        "#list(X.values())\n",
        "x_train=[]\n",
        "y_train=[]\n",
        "for it in list(X.values()):\n",
        "  x_train.append(it[0:-1])\n",
        "  y_train.append(it[-1])"
      ]
    },
    {
      "cell_type": "code",
      "execution_count": null,
      "metadata": {
        "id": "_mNwoEZem2fX"
      },
      "outputs": [],
      "source": [
        "x_train[3] "
      ]
    },
    {
      "cell_type": "code",
      "execution_count": null,
      "metadata": {
        "id": "O0ACQB-eWHWV"
      },
      "outputs": [],
      "source": [
        "len(x_train)"
      ]
    },
    {
      "cell_type": "code",
      "execution_count": null,
      "metadata": {
        "id": "n3pVZIEFTJWL"
      },
      "outputs": [],
      "source": [
        "X=np.array(x_train)\n",
        "#input_seq.shape\n",
        "y=np.array(y_train).reshape(len(y_train),1)\n",
        "#target=tf.reshape(tf.constant(y_train),[len(y_train),1])"
      ]
    },
    {
      "cell_type": "code",
      "execution_count": null,
      "metadata": {
        "colab": {
          "base_uri": "https://localhost:8080/",
          "height": 165
        },
        "id": "-LgTXADBLWod",
        "outputId": "b99041d8-c80d-496e-fcb2-cf6071738766"
      },
      "outputs": [
        {
          "ename": "NameError",
          "evalue": "ignored",
          "output_type": "error",
          "traceback": [
            "\u001b[0;31m---------------------------------------------------------------------------\u001b[0m",
            "\u001b[0;31mNameError\u001b[0m                                 Traceback (most recent call last)",
            "\u001b[0;32m<ipython-input-4-3d861059fa55>\u001b[0m in \u001b[0;36m<module>\u001b[0;34m\u001b[0m\n\u001b[0;32m----> 1\u001b[0;31m \u001b[0my\u001b[0m\u001b[0;34m.\u001b[0m\u001b[0mshape\u001b[0m\u001b[0;34m\u001b[0m\u001b[0;34m\u001b[0m\u001b[0m\n\u001b[0m",
            "\u001b[0;31mNameError\u001b[0m: name 'y' is not defined"
          ]
        }
      ],
      "source": [
        "y.shape"
      ]
    },
    {
      "cell_type": "code",
      "execution_count": null,
      "metadata": {
        "id": "K963m-_GKRoK"
      },
      "outputs": [],
      "source": [
        "X_train,X_test,y_train,y_test=train_test_split(X,y,test_size=0.3)"
      ]
    },
    {
      "cell_type": "code",
      "execution_count": null,
      "metadata": {
        "id": "SAvkBoN6Ls5L"
      },
      "outputs": [],
      "source": [
        "X_train.shape"
      ]
    },
    {
      "cell_type": "code",
      "execution_count": null,
      "metadata": {
        "id": "DNlVNBx1LwLB"
      },
      "outputs": [],
      "source": [
        "y_train"
      ]
    },
    {
      "cell_type": "code",
      "execution_count": null,
      "metadata": {
        "id": "87Uy9xVrKJ36"
      },
      "outputs": [],
      "source": [
        "input_seq,test_seq,y_true,y_hat=tf.constant(X_train),tf.constant(X_test),tf.constant(y_train),tf.constant(y_test)"
      ]
    },
    {
      "cell_type": "code",
      "execution_count": null,
      "metadata": {
        "id": "27aW3YsEMtgx"
      },
      "outputs": [],
      "source": [
        "input_seq"
      ]
    },
    {
      "cell_type": "code",
      "execution_count": null,
      "metadata": {
        "id": "FQ1eLak8DDoe"
      },
      "outputs": [],
      "source": [
        "y_true"
      ]
    },
    {
      "cell_type": "code",
      "execution_count": null,
      "metadata": {
        "id": "pdqPr0qBOZ_j"
      },
      "outputs": [],
      "source": [
        "tf.reduce_max(input_seq)+1"
      ]
    },
    {
      "cell_type": "code",
      "execution_count": null,
      "metadata": {
        "id": "3NIzBxrMkJO-"
      },
      "outputs": [],
      "source": [
        "input=Input(shape=(seq_len-1,))\n",
        "x=Embedding(input_dim=vocab_size+1,input_length=seq_len-1,output_dim=20,trainable=True)(input)\n",
        "x=LSTM(256,return_sequences=True)(x)\n",
        "x=LSTM(128,return_sequences=True)(x)\n",
        "x=LSTM(64)(x)\n",
        "x=Dense(32)(x)\n",
        "output=Dense(vocab_size,activation=\"softmax\")(x)\n",
        "model=Model(input,output)"
      ]
    },
    {
      "cell_type": "code",
      "execution_count": null,
      "metadata": {
        "id": "MbsSkoNZQ9dC"
      },
      "outputs": [],
      "source": [
        "model.summary()"
      ]
    },
    {
      "cell_type": "code",
      "execution_count": null,
      "metadata": {
        "id": "Nmoai3BQocfR"
      },
      "outputs": [],
      "source": [
        "model.compile(optimizer=Adam(0.01),loss=tf.keras.losses.sparse_categorical_crossentropy,metrics=['accuracy'])"
      ]
    },
    {
      "cell_type": "code",
      "execution_count": null,
      "metadata": {
        "id": "MzNXbH2joqD0"
      },
      "outputs": [],
      "source": [
        "model.fit(input_seq,y_true,epochs=10)"
      ]
    },
    {
      "cell_type": "code",
      "execution_count": null,
      "metadata": {
        "id": "iLpi5L4SJSpX"
      },
      "outputs": [],
      "source": [
        "model.evaluate(test_seq,y_hat)"
      ]
    },
    {
      "cell_type": "code",
      "execution_count": null,
      "metadata": {
        "id": "5JiLY6K5qQQN"
      },
      "outputs": [],
      "source": [
        "input_text=[\"she was such a good person\"]\n",
        "#input_text=[\"he was such a good person and honestly speaking he did make good use of his\"]\n",
        "#input_text=[\"can you please\"]\n",
        "#input_text=[\"marriage is such a beautiful\"]\n",
        "toks=tokenizer.texts_to_sequences(input_text)\n",
        "ins=pad_sequences(toks,maxlen=seq_len-1)\n",
        "input_tensor=tf.constant(ins)\n",
        "input_tensor"
      ]
    },
    {
      "cell_type": "code",
      "execution_count": null,
      "metadata": {
        "id": "J7hHHunLrnRx"
      },
      "outputs": [],
      "source": [
        "pred=model.predict(input_tensor)\n",
        "keys[vals.index(np.argmax(pred))]"
      ]
    },
    {
      "cell_type": "code",
      "execution_count": null,
      "metadata": {
        "id": "ABZ66jz4dtDd"
      },
      "outputs": [],
      "source": [
        "input_text[0]=input_text[0]+' '+keys[vals.index(np.argmax(pred))]\n",
        "input_text[0]"
      ]
    },
    {
      "cell_type": "code",
      "execution_count": null,
      "metadata": {
        "id": "0AjbtM33ekzG"
      },
      "outputs": [],
      "source": [
        "for i in range(10):\n",
        "  toks=tokenizer.texts_to_sequences(input_text)\n",
        "  ins=pad_sequences(toks,maxlen=seq_len-1)\n",
        "  input_tensor=tf.constant(ins)\n",
        "  pred=model.predict(input_tensor)\n",
        "  input_text[0]=input_text[0]+' '+keys[vals.index(np.argmax(pred))]\n",
        "\n",
        "print(input_text)"
      ]
    },
    {
      "cell_type": "code",
      "execution_count": null,
      "metadata": {
        "id": "KaBm737y7CD9"
      },
      "outputs": [],
      "source": [
        "sort_pred=np.argsort(pred[0])\n",
        "pred_words=np.flip(sort_pred[-20:])\n",
        "for index in pred_words:\n",
        "  print(keys[vals.index(index)])"
      ]
    }
  ],
  "metadata": {
    "accelerator": "GPU",
    "colab": {
      "collapsed_sections": [],
      "provenance": [],
      "include_colab_link": true
    },
    "kernelspec": {
      "display_name": "Python 3",
      "name": "python3"
    },
    "language_info": {
      "name": "python"
    }
  },
  "nbformat": 4,
  "nbformat_minor": 0
}